{
 "cells": [
  {
   "cell_type": "code",
   "execution_count": 1,
   "id": "dee7f3d3",
   "metadata": {},
   "outputs": [
    {
     "name": "stdout",
     "output_type": "stream",
     "text": [
      "\n",
      " Square root of data frame:\n",
      "           P         Q\n",
      "0  1.414214  2.645751\n",
      "1  1.414214  2.645751\n",
      "2  1.414214  2.645751\n"
     ]
    }
   ],
   "source": [
    "import pandas as pd\n",
    "import numpy as np\n",
    "info=pd.DataFrame([[2,7]]*3,columns=['P','Q'])\n",
    "print(\"\\n Square root of data frame:\\n\",info.apply(np.sqrt))"
   ]
  },
  {
   "cell_type": "code",
   "execution_count": 2,
   "id": "c11b186c",
   "metadata": {},
   "outputs": [
    {
     "name": "stdout",
     "output_type": "stream",
     "text": [
      "P     6\n",
      "Q    21\n",
      "dtype: int64\n"
     ]
    }
   ],
   "source": [
    "print(info.apply(np.sum,axis=0))"
   ]
  },
  {
   "cell_type": "code",
   "execution_count": 3,
   "id": "35300461",
   "metadata": {},
   "outputs": [
    {
     "name": "stdout",
     "output_type": "stream",
     "text": [
      "0    9\n",
      "1    9\n",
      "2    9\n",
      "dtype: int64\n"
     ]
    }
   ],
   "source": [
    "print(info.apply(np.sum,axis=1))"
   ]
  },
  {
   "cell_type": "code",
   "execution_count": 4,
   "id": "4ed117fd",
   "metadata": {},
   "outputs": [
    {
     "name": "stdout",
     "output_type": "stream",
     "text": [
      "     R  Y  Z\n",
      "min  1  4  6\n",
      "max  3  8  9\n"
     ]
    }
   ],
   "source": [
    "a=pd.DataFrame([[3,4,6],[2,5,7],[1,8,9]],columns=['R','Y','Z'])\n",
    "print(a.agg(['min','max']))"
   ]
  },
  {
   "cell_type": "code",
   "execution_count": 6,
   "id": "4e37404c",
   "metadata": {},
   "outputs": [
    {
     "name": "stdout",
     "output_type": "stream",
     "text": [
      "    EMP   ID  Age   sex\n",
      "0  Dale  123   18  Male\n",
      "1  Mark  143   19  Male\n"
     ]
    }
   ],
   "source": [
    "b=pd.DataFrame([['Dale',123],['Mark',143]],columns=['EMP','ID'])\n",
    "b['Age']=[18,19]\n",
    "c=b.assign(sex=['Male','Male'])\n",
    "print(c)"
   ]
  },
  {
   "cell_type": "code",
   "execution_count": 7,
   "id": "ba2fd7d8",
   "metadata": {},
   "outputs": [
    {
     "name": "stdout",
     "output_type": "stream",
     "text": [
      "          A         B         C         D\n",
      "7 -0.795854 -0.398561  0.627428 -1.755595\n",
      "8 -0.605509 -2.244878 -1.403790  0.656401\n",
      "9 -0.116327  1.542587  0.914058 -0.835648\n",
      "1 -0.999680 -0.114268 -0.670069  0.445275\n",
      "2 -0.861819  0.729471  1.126955 -0.951353\n",
      "3 -2.403507  0.557359 -0.552456 -0.372527\n",
      "          A         B         C         D\n",
      "3 -2.403507  0.557359 -0.552456 -0.372527\n",
      "1 -0.999680 -0.114268 -0.670069  0.445275\n",
      "2 -0.861819  0.729471  1.126955 -0.951353\n",
      "7 -0.795854 -0.398561  0.627428 -1.755595\n",
      "8 -0.605509 -2.244878 -1.403790  0.656401\n",
      "9 -0.116327  1.542587  0.914058 -0.835648\n"
     ]
    }
   ],
   "source": [
    "d=pd.DataFrame(np.random.randn(6,4),index=[7,8,9,1,2,3],columns=['A','B','C','D'])\n",
    "print(d)\n",
    "e=d.sort_index()\n",
    "f=d.sort_values(by='A')\n",
    "print(f)"
   ]
  },
  {
   "cell_type": "code",
   "execution_count": 9,
   "id": "0fc56634",
   "metadata": {},
   "outputs": [
    {
     "name": "stdout",
     "output_type": "stream",
     "text": [
      "   id      Name        Sub\n",
      "0   1   Rithika    English\n",
      "1   2   Yazhini      Tamil\n",
      "2   3   Yuvasri      Maths\n",
      "3   4      Ruba  Science-1\n",
      "4   5     Priya  Science-2\n",
      "5   6  Nandhini     Social\n",
      "   id     Name   Sub\n",
      "0   1  Yuvaraj   CSE\n",
      "1   2    Rishi    IT\n",
      "2   3    Manoj   EEE\n",
      "3   4   Charan   ECE\n",
      "4   5  Praveen  MECH\n",
      "5   6      sai   R&A\n",
      "   id    Name_x      Sub_x   Name_y Sub_y\n",
      "0   1   Rithika    English  Yuvaraj   CSE\n",
      "1   2   Yazhini      Tamil    Rishi    IT\n",
      "2   3   Yuvasri      Maths    Manoj   EEE\n",
      "3   4      Ruba  Science-1   Charan   ECE\n",
      "4   5     Priya  Science-2  Praveen  MECH\n",
      "5   6  Nandhini     Social      sai   R&A\n"
     ]
    }
   ],
   "source": [
    "a1=pd.DataFrame({'id':[1,2,3,4,5,6],'Name':['Rithika','Yazhini','Yuvasri','Ruba','Priya','Nandhini'],'Sub':['English','Tamil','Maths','Science-1','Science-2','Social']})\n",
    "a2=pd.DataFrame({'id':[1,2,3,4,5,6],'Name':['Yuvaraj','Rishi','Manoj','Charan','Praveen','sai'],'Sub':['CSE','IT','EEE','ECE','MECH','R&A']})\n",
    "print(a1)\n",
    "print(a2)\n",
    "print(pd.merge(a1,a2,on='id'))"
   ]
  },
  {
   "cell_type": "code",
   "execution_count": null,
   "id": "550c5718",
   "metadata": {},
   "outputs": [],
   "source": []
  }
 ],
 "metadata": {
  "kernelspec": {
   "display_name": "Python 3 (ipykernel)",
   "language": "python",
   "name": "python3"
  },
  "language_info": {
   "codemirror_mode": {
    "name": "ipython",
    "version": 3
   },
   "file_extension": ".py",
   "mimetype": "text/x-python",
   "name": "python",
   "nbconvert_exporter": "python",
   "pygments_lexer": "ipython3",
   "version": "3.9.12"
  }
 },
 "nbformat": 4,
 "nbformat_minor": 5
}
