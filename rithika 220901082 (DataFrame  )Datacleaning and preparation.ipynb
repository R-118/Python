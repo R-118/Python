{
 "cells": [
  {
   "cell_type": "code",
   "execution_count": 5,
   "id": "746d9cb3",
   "metadata": {},
   "outputs": [
    {
     "name": "stdout",
     "output_type": "stream",
     "text": [
      "Original DataFrame with NaN\n",
      "         One       Two     Three\n",
      "a -0.167803  0.675519 -0.839715\n",
      "b       NaN       NaN       NaN\n",
      "c -0.339283  0.361263  1.309086\n",
      "d       NaN       NaN       NaN\n",
      "e  0.614159 -0.258324 -1.357305\n",
      "f  0.867224 -1.488801  0.866821\n",
      "g       NaN       NaN       NaN\n",
      "h  1.423836  1.793542  1.114534\n",
      "\n",
      "\n",
      "Dropped DataFrame\n",
      "         One       Two     Three\n",
      "a -0.167803  0.675519 -0.839715\n",
      "c -0.339283  0.361263  1.309086\n",
      "e  0.614159 -0.258324 -1.357305\n",
      "f  0.867224 -1.488801  0.866821\n",
      "h  1.423836  1.793542  1.114534\n",
      "\n",
      "\n"
     ]
    }
   ],
   "source": [
    "import pandas as pd\n",
    "import numpy as np\n",
    "df=pd.DataFrame(np.random.randn(5,3),index=['a','c','e','f','h'],columns=['One','Two','Three'])\n",
    "df=df.reindex(['a','b','c','d','e','f','g','h'])\n",
    "print(\"Original DataFrame with NaN\\n\",df)\n",
    "print(\"\\n\")\n",
    "print(\"Dropped DataFrame\\n\",df.dropna())\n",
    "print(\"\\n\")"
   ]
  },
  {
   "cell_type": "code",
   "execution_count": 6,
   "id": "3454be9a",
   "metadata": {},
   "outputs": [
    {
     "name": "stdout",
     "output_type": "stream",
     "text": [
      "Original DataFrame:\n",
      "         One       two     three\n",
      "a -0.211015 -0.152289 -0.330501\n",
      "b       NaN       NaN       NaN\n",
      "c -0.281041 -1.139051 -0.295215\n",
      "\n",
      "\n",
      "Nan replaced with '0':\n",
      "\n",
      "        One       two     three\n",
      "a -0.211015 -0.152289 -0.330501\n",
      "b  0.000000  0.000000  0.000000\n",
      "c -0.281041 -1.139051 -0.295215\n"
     ]
    }
   ],
   "source": [
    "df=pd.DataFrame(np.random.randn(3,3),index=['a','c','e'],columns=['One','two','three'])\n",
    "df=df.reindex(['a','b','c'])\n",
    "print(\"Original DataFrame:\\n\",df)\n",
    "print(\"\\n\")\n",
    "print(\"Nan replaced with '0':\\n\")\n",
    "print(df.fillna(0))"
   ]
  },
  {
   "cell_type": "code",
   "execution_count": 7,
   "id": "f136c822",
   "metadata": {},
   "outputs": [
    {
     "name": "stdout",
     "output_type": "stream",
     "text": [
      "\\Original DataFrame:\n",
      "     One   two\n",
      "0    10  1000\n",
      "1    20     0\n",
      "2    30    30\n",
      "3    40    40\n",
      "4    50    50\n",
      "5  2000    60\n",
      "\n",
      " DataFrame with replaced values:\n",
      "\n",
      "   One  two\n",
      "0   10   10\n",
      "1   20  100\n",
      "2   30   30\n",
      "3  400  400\n",
      "4   50   50\n",
      "5   60   60\n"
     ]
    }
   ],
   "source": [
    "df=pd.DataFrame({'One':[10,20,30,40,50,2000],'two':[1000,0,30,40,50,60]})\n",
    "print(\"\\Original DataFrame:\\n\",df)\n",
    "print(\"\\n DataFrame with replaced values:\\n\")\n",
    "print(df.replace({1000:10,2000:60,40:400,0:100}))"
   ]
  },
  {
   "cell_type": "code",
   "execution_count": 8,
   "id": "65af94f5",
   "metadata": {},
   "outputs": [
    {
     "name": "stdout",
     "output_type": "stream",
     "text": [
      "\n",
      "Original DataFrame:\n",
      "         One       two     three\n",
      "a  0.928970  1.344096  0.448342\n",
      "b       NaN       NaN       NaN\n",
      "c -0.683584 -0.091138 -0.615840\n",
      "d       NaN       NaN       NaN\n",
      "e  3.359203  0.519310 -1.085647\n",
      "f -0.091488 -2.111612  1.118442\n",
      "g       NaN       NaN       NaN\n",
      "h  0.540942 -0.417460  0.855260\n",
      "\n",
      "NaN-Filled with Forward Values:\n",
      "\n",
      "        One       two     three\n",
      "a  0.928970  1.344096  0.448342\n",
      "b  0.928970  1.344096  0.448342\n",
      "c -0.683584 -0.091138 -0.615840\n",
      "d -0.683584 -0.091138 -0.615840\n",
      "e  3.359203  0.519310 -1.085647\n",
      "f -0.091488 -2.111612  1.118442\n",
      "g -0.091488 -2.111612  1.118442\n",
      "h  0.540942 -0.417460  0.855260\n",
      "\n",
      "NaN-Filled with Background Values:\n",
      "\n",
      "        One       two     three\n",
      "a  0.928970  1.344096  0.448342\n",
      "b -0.683584 -0.091138 -0.615840\n",
      "c -0.683584 -0.091138 -0.615840\n",
      "d  3.359203  0.519310 -1.085647\n",
      "e  3.359203  0.519310 -1.085647\n",
      "f -0.091488 -2.111612  1.118442\n",
      "g  0.540942 -0.417460  0.855260\n",
      "h  0.540942 -0.417460  0.855260\n"
     ]
    }
   ],
   "source": [
    "df=pd.DataFrame(np.random.randn(5,3),index=['a','c','e','f','h'],columns=['One','two','three'])\n",
    "df=df.reindex(['a','b','c','d','e','f','g','h'])\n",
    "print(\"\\nOriginal DataFrame:\\n\",df)\n",
    "print(\"\\nNaN-Filled with Forward Values:\\n\")\n",
    "print(df.fillna(method='pad'))\n",
    "print(\"\\nNaN-Filled with Background Values:\\n\")\n",
    "print(df.fillna(method='bfill'))"
   ]
  },
  {
   "cell_type": "code",
   "execution_count": null,
   "id": "8072a2c8",
   "metadata": {},
   "outputs": [],
   "source": []
  }
 ],
 "metadata": {
  "kernelspec": {
   "display_name": "Python 3 (ipykernel)",
   "language": "python",
   "name": "python3"
  },
  "language_info": {
   "codemirror_mode": {
    "name": "ipython",
    "version": 3
   },
   "file_extension": ".py",
   "mimetype": "text/x-python",
   "name": "python",
   "nbconvert_exporter": "python",
   "pygments_lexer": "ipython3",
   "version": "3.9.12"
  }
 },
 "nbformat": 4,
 "nbformat_minor": 5
}
