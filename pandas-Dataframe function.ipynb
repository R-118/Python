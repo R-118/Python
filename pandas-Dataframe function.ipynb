{
 "cells": [
  {
   "cell_type": "code",
   "execution_count": 2,
   "id": "c0aac58c",
   "metadata": {},
   "outputs": [
    {
     "name": "stdout",
     "output_type": "stream",
     "text": [
      "DataFrame.apply function:\n",
      "\n"
     ]
    }
   ],
   "source": [
    "import pandas as pd\n",
    "import numpy as np\n",
    "print(\"DataFrame.apply function:\\n\")\n",
    "info=pd.DataFrame([[2,7]]*3,columns=['P','Q'])"
   ]
  },
  {
   "cell_type": "code",
   "execution_count": 3,
   "id": "8babe262",
   "metadata": {},
   "outputs": [
    {
     "name": "stdout",
     "output_type": "stream",
     "text": [
      "\n",
      " Original Dataframe:\n",
      "    P  Q\n",
      "0  2  7\n",
      "1  2  7\n",
      "2  2  7\n"
     ]
    }
   ],
   "source": [
    "print(\"\\n Original Dataframe:\\n\",info)"
   ]
  },
  {
   "cell_type": "code",
   "execution_count": 4,
   "id": "2e21f656",
   "metadata": {},
   "outputs": [
    {
     "name": "stdout",
     "output_type": "stream",
     "text": [
      "\n",
      " Square root of data frame:\n",
      "           P         Q\n",
      "0  1.414214  2.645751\n",
      "1  1.414214  2.645751\n",
      "2  1.414214  2.645751\n"
     ]
    }
   ],
   "source": [
    "print(\"\\n Square root of data frame:\\n\",info.apply(np.sqrt))"
   ]
  },
  {
   "cell_type": "code",
   "execution_count": null,
   "id": "363687dd",
   "metadata": {},
   "outputs": [],
   "source": []
  }
 ],
 "metadata": {
  "kernelspec": {
   "display_name": "Python 3 (ipykernel)",
   "language": "python",
   "name": "python3"
  },
  "language_info": {
   "codemirror_mode": {
    "name": "ipython",
    "version": 3
   },
   "file_extension": ".py",
   "mimetype": "text/x-python",
   "name": "python",
   "nbconvert_exporter": "python",
   "pygments_lexer": "ipython3",
   "version": "3.9.12"
  }
 },
 "nbformat": 4,
 "nbformat_minor": 5
}
