{
 "cells": [
  {
   "cell_type": "code",
   "execution_count": 1,
   "id": "338bcecc",
   "metadata": {},
   "outputs": [],
   "source": [
    "import pandas as pd"
   ]
  },
  {
   "cell_type": "code",
   "execution_count": 4,
   "id": "1d2b7c38",
   "metadata": {},
   "outputs": [
    {
     "name": "stdout",
     "output_type": "stream",
     "text": [
      "    First Name  Gender  Start Date Last Login Time  Salary  Bonus %  \\\n",
      "0      Douglas    Male    8/6/1993        12:42 PM   97308    6.945   \n",
      "1       Thomas    Male   3/31/1996         6:53 AM   61933    4.170   \n",
      "2        Maria  Female   4/23/1993        11:17 AM  130590   11.858   \n",
      "3        Jerry    Male    3/4/2005         1:00 PM  138705    9.340   \n",
      "4        Larry    Male   1/24/1998         4:47 PM  101004    1.389   \n",
      "..         ...     ...         ...             ...     ...      ...   \n",
      "995      Henry     NaN  11/23/2014         6:09 AM  132483   16.655   \n",
      "996    Phillip    Male   1/31/1984         6:30 AM   42392   19.675   \n",
      "997    Russell    Male   5/20/2013        12:39 PM   96914    1.421   \n",
      "998      Larry    Male   4/20/2013         4:45 PM   60500   11.985   \n",
      "999     Albert    Male   5/15/2012         6:24 PM  129949   10.169   \n",
      "\n",
      "    Senior Management                  Team  \n",
      "0                True             Marketing  \n",
      "1                True                   NaN  \n",
      "2               False               Finance  \n",
      "3                True               Finance  \n",
      "4                True       Client Services  \n",
      "..                ...                   ...  \n",
      "995             False          Distribution  \n",
      "996             False               Finance  \n",
      "997             False               Product  \n",
      "998             False  Business Development  \n",
      "999              True                 Sales  \n",
      "\n",
      "[1000 rows x 8 columns]\n"
     ]
    }
   ],
   "source": [
    "d=pd.read_csv(r\"C:\\Users\\Tcs\\Desktop\\Rithika B eee 82 python\\employees.csv\")\n",
    "print(d)"
   ]
  },
  {
   "cell_type": "code",
   "execution_count": 21,
   "id": "c1bb9940",
   "metadata": {},
   "outputs": [
    {
     "name": "stdout",
     "output_type": "stream",
     "text": [
      "    First Name  Gender  Start Date Last Login Time  Salary  Bonus %  \\\n",
      "0      Douglas    Male    8/6/1993        12:42 PM   97308    6.945   \n",
      "1       Thomas    Male   3/31/1996         6:53 AM   61933    4.170   \n",
      "2        Maria  Female   4/23/1993        11:17 AM  130590   11.858   \n",
      "3        Jerry    Male    3/4/2005         1:00 PM  138705    9.340   \n",
      "4        Larry    Male   1/24/1998         4:47 PM  101004    1.389   \n",
      "..         ...     ...         ...             ...     ...      ...   \n",
      "995      Henry     NaN  11/23/2014         6:09 AM  132483   16.655   \n",
      "996    Phillip    Male   1/31/1984         6:30 AM   42392   19.675   \n",
      "997    Russell    Male   5/20/2013        12:39 PM   96914    1.421   \n",
      "998      Larry    Male   4/20/2013         4:45 PM   60500   11.985   \n",
      "999     Albert    Male   5/15/2012         6:24 PM  129949   10.169   \n",
      "\n",
      "    Senior Management                  Team  \n",
      "0                True             Marketing  \n",
      "1                True                   NaN  \n",
      "2               False               Finance  \n",
      "3                True               Finance  \n",
      "4                True       Client Services  \n",
      "..                ...                   ...  \n",
      "995             False          Distribution  \n",
      "996             False               Finance  \n",
      "997             False               Product  \n",
      "998             False  Business Development  \n",
      "999              True                 Sales  \n",
      "\n",
      "[1000 rows x 8 columns]\n"
     ]
    }
   ],
   "source": [
    "df=pd.DataFrame(d)\n",
    "print(df)"
   ]
  },
  {
   "cell_type": "code",
   "execution_count": 8,
   "id": "d62c4d64",
   "metadata": {},
   "outputs": [
    {
     "name": "stdout",
     "output_type": "stream",
     "text": [
      "Index(['First Name', 'Gender', 'Start Date', 'Last Login Time', 'Salary',\n",
      "       'Bonus %', 'Senior Management', 'Team'],\n",
      "      dtype='object')\n"
     ]
    }
   ],
   "source": [
    "print(df.columns)"
   ]
  },
  {
   "cell_type": "code",
   "execution_count": 10,
   "id": "847fc04c",
   "metadata": {},
   "outputs": [
    {
     "name": "stdout",
     "output_type": "stream",
     "text": [
      "\n",
      " Get the shape-(no of rows,no of columns)\n",
      " (1000, 8)\n"
     ]
    }
   ],
   "source": [
    "print(\"\\n Get the shape-(no of rows,no of columns)\\n\",df.shape)"
   ]
  },
  {
   "cell_type": "code",
   "execution_count": 15,
   "id": "d1a4968b",
   "metadata": {},
   "outputs": [
    {
     "name": "stdout",
     "output_type": "stream",
     "text": [
      "0      Douglas\n",
      "1       Thomas\n",
      "2        Maria\n",
      "3        Jerry\n",
      "4        Larry\n",
      "        ...   \n",
      "995      Henry\n",
      "996    Phillip\n",
      "997    Russell\n",
      "998      Larry\n",
      "999     Albert\n",
      "Name: First Name, Length: 1000, dtype: object\n"
     ]
    }
   ],
   "source": [
    "print(df['First Name'])"
   ]
  },
  {
   "cell_type": "code",
   "execution_count": 16,
   "id": "c9079a97",
   "metadata": {},
   "outputs": [
    {
     "name": "stdout",
     "output_type": "stream",
     "text": [
      "First Name                 NaN\n",
      "Gender                  Female\n",
      "Start Date           7/20/2015\n",
      "Last Login Time       10:43 AM\n",
      "Salary                   45906\n",
      "Bonus %                 11.598\n",
      "Senior Management          NaN\n",
      "Team                   Finance\n",
      "Name: 7, dtype: object\n"
     ]
    }
   ],
   "source": [
    "print(df.loc[7])"
   ]
  },
  {
   "cell_type": "code",
   "execution_count": 17,
   "id": "4e35b372",
   "metadata": {},
   "outputs": [
    {
     "name": "stdout",
     "output_type": "stream",
     "text": [
      "  First Name  Gender Start Date Last Login Time  Salary  Bonus %  \\\n",
      "2      Maria  Female  4/23/1993        11:17 AM  130590   11.858   \n",
      "3      Jerry    Male   3/4/2005         1:00 PM  138705    9.340   \n",
      "4      Larry    Male  1/24/1998         4:47 PM  101004    1.389   \n",
      "\n",
      "  Senior Management             Team  \n",
      "2             False          Finance  \n",
      "3              True          Finance  \n",
      "4              True  Client Services  \n"
     ]
    }
   ],
   "source": [
    "print(df[2:5])"
   ]
  },
  {
   "cell_type": "code",
   "execution_count": 23,
   "id": "6a19effb",
   "metadata": {},
   "outputs": [
    {
     "name": "stdout",
     "output_type": "stream",
     "text": [
      "Empty DataFrame\n",
      "Columns: [First Name, Gender, Start Date, Last Login Time, Salary, Bonus %, Senior Management, Team]\n",
      "Index: []\n"
     ]
    }
   ],
   "source": [
    "print(df.loc[df['First Name']==4])"
   ]
  },
  {
   "cell_type": "code",
   "execution_count": 27,
   "id": "cd8d98b8",
   "metadata": {},
   "outputs": [
    {
     "name": "stdout",
     "output_type": "stream",
     "text": [
      "0      19461.6\n",
      "1      12386.6\n",
      "2      26118.0\n",
      "3      27741.0\n",
      "4      20200.8\n",
      "        ...   \n",
      "995    26496.6\n",
      "996     8478.4\n",
      "997    19382.8\n",
      "998    12100.0\n",
      "999    25989.8\n",
      "Name: Salary, Length: 1000, dtype: float64\n"
     ]
    }
   ],
   "source": [
    "a=df['Salary']/5\n",
    "print(a)"
   ]
  },
  {
   "cell_type": "code",
   "execution_count": null,
   "id": "e900b7f3",
   "metadata": {},
   "outputs": [],
   "source": []
  }
 ],
 "metadata": {
  "kernelspec": {
   "display_name": "Python 3 (ipykernel)",
   "language": "python",
   "name": "python3"
  },
  "language_info": {
   "codemirror_mode": {
    "name": "ipython",
    "version": 3
   },
   "file_extension": ".py",
   "mimetype": "text/x-python",
   "name": "python",
   "nbconvert_exporter": "python",
   "pygments_lexer": "ipython3",
   "version": "3.9.12"
  }
 },
 "nbformat": 4,
 "nbformat_minor": 5
}
