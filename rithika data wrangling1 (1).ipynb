{
 "cells": [
  {
   "cell_type": "code",
   "execution_count": 4,
   "id": "15487cc3",
   "metadata": {},
   "outputs": [
    {
     "name": "stdout",
     "output_type": "stream",
     "text": [
      "Original DataFrame 1:\n",
      "     name  age\n",
      "0  Sally   50\n",
      "1   Mary   40\n",
      "2   John   30\n",
      "\n",
      "Original DataFrame 2:\n",
      "    qualified\n",
      "0       True\n",
      "1      False\n",
      "2      False\n",
      "\n",
      " Joining the above two Dataframes using join operation:\n",
      "     name  age  qualified\n",
      "0  Sally   50       True\n",
      "1   Mary   40      False\n",
      "2   John   30      False\n"
     ]
    }
   ],
   "source": [
    "import pandas as pd\n",
    "data1={\n",
    "    \"name\":[\"Sally\",\"Mary\",\"John\"],\n",
    "    \"age\":[50,40,30]\n",
    "}\n",
    "data2={\n",
    "    \"qualified\":[True,False,False]\n",
    "}\n",
    "df1=pd.DataFrame(data1)\n",
    "print(\"Original DataFrame 1:\\n\",df1)\n",
    "df2=pd.DataFrame(data2)\n",
    "print(\"\\nOriginal DataFrame 2:\\n\",df2)\n",
    "newdf=df1.join(df2)\n",
    "print(\"\\n Joining the above two Dataframes using join operation:\\n\",newdf)"
   ]
  },
  {
   "cell_type": "code",
   "execution_count": 8,
   "id": "e0d10117",
   "metadata": {},
   "outputs": [],
   "source": [
    "import pandas as pd\n",
    "df1=pd.DataFrame([[1,2],[3,4]])\n",
    "df2=pd.DataFrame([[5,6],[7,8]])\n",
    "def myfunc(a,b):\n",
    "    if(a.sum()>b.sum()):\n",
    "        return a\n",
    "    else:\n",
    "        return b\n",
    "    print(\"\\n Original DataFrame1:\\n\",df1)\n",
    "    print(\"\\n Original DataFrame2:\\n\",df2)\n",
    "    print(\"\\n Combining the above two DataFrame using combine function with some condition:\\n\",df1.combine(df2,myfunc))"
   ]
  },
  {
   "cell_type": "code",
   "execution_count": 11,
   "id": "cc89dfb7",
   "metadata": {},
   "outputs": [
    {
     "name": "stdout",
     "output_type": "stream",
     "text": [
      "\n",
      "Original DataFrame1:\n",
      "     name  age\n",
      "0  Sally   50\n",
      "1   Mary   40\n",
      "2   John   30\n",
      "\n",
      "Original DataFrame2:\n",
      "      name  age\n",
      "0   Sally   77\n",
      "1   Peter   44\n",
      "2  Mickey   22\n",
      "\n",
      "Merge operation:\n",
      "      name  age\n",
      "0   Sally   77\n",
      "1   Peter   44\n",
      "2  Mickey   22\n"
     ]
    }
   ],
   "source": [
    "data1={\n",
    "    \"name\":[\"Sally\",\"Mary\",\"John\"],\n",
    "    \"age\":[50,40,30]\n",
    "}\n",
    "data2={\n",
    "    \"name\":[\"Sally\",\"Peter\",\"Mickey\"],\n",
    "    \"age\":[77,44,22]\n",
    "}\n",
    "df1=pd.DataFrame(data1)\n",
    "df2=pd.DataFrame(data2)\n",
    "print(\"\\nOriginal DataFrame1:\\n\",df1)\n",
    "print(\"\\nOriginal DataFrame2:\\n\",df2)\n",
    "newdf=df1.merge(df2,how='right')\n",
    "print(\"\\nMerge operation:\\n\",newdf)"
   ]
  },
  {
   "cell_type": "code",
   "execution_count": 15,
   "id": "5283831c",
   "metadata": {},
   "outputs": [
    {
     "name": "stdout",
     "output_type": "stream",
     "text": [
      "\n",
      " Original DataFrame:\n",
      "   team  points  assists  Rebounds\n",
      "0    A      88       12        22\n",
      "1    B      91       17        28\n",
      "2    C      99       24        30\n",
      "3    D      94       28        31\n",
      "\n",
      " Reshaped DataFrame:\n",
      "    team  variable  value\n",
      "0     A    points     88\n",
      "1     B    points     91\n",
      "2     C    points     99\n",
      "3     D    points     94\n",
      "4     A   assists     12\n",
      "5     B   assists     17\n",
      "6     C   assists     24\n",
      "7     D   assists     28\n",
      "8     A  Rebounds     22\n",
      "9     B  Rebounds     28\n",
      "10    C  Rebounds     30\n",
      "11    D  Rebounds     31\n"
     ]
    }
   ],
   "source": [
    "import pandas as pd\n",
    "df=pd.DataFrame({'team':['A','B','C','D'],\n",
    "                'points':[88,91,99,94],\n",
    "                'assists':[12,17,24,28],\n",
    "                'Rebounds':[22,28,30,31]})\n",
    "print(\"\\n Original DataFrame:\\n\",df)\n",
    "df= pd.melt(df,id_vars='team',value_vars=['points','assists','Rebounds'])\n",
    "print(\"\\n Reshaped DataFrame:\\n\",df)"
   ]
  },
  {
   "cell_type": "code",
   "execution_count": 7,
   "id": "a70b10ca",
   "metadata": {},
   "outputs": [],
   "source": []
  },
  {
   "cell_type": "code",
   "execution_count": null,
   "id": "d3f15aac",
   "metadata": {},
   "outputs": [],
   "source": []
  }
 ],
 "metadata": {
  "kernelspec": {
   "display_name": "Python 3 (ipykernel)",
   "language": "python",
   "name": "python3"
  },
  "language_info": {
   "codemirror_mode": {
    "name": "ipython",
    "version": 3
   },
   "file_extension": ".py",
   "mimetype": "text/x-python",
   "name": "python",
   "nbconvert_exporter": "python",
   "pygments_lexer": "ipython3",
   "version": "3.9.12"
  }
 },
 "nbformat": 4,
 "nbformat_minor": 5
}
