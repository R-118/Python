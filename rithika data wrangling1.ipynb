{
 "cells": [
  {
   "cell_type": "code",
   "execution_count": 6,
   "id": "15487cc3",
   "metadata": {},
   "outputs": [
    {
     "name": "stdout",
     "output_type": "stream",
     "text": [
      "Original DataFrame 1:\n",
      "     name  age\n",
      "0  Sally   50\n",
      "1   Mary   40\n",
      "2   John   30\n",
      "\n",
      "Original DataFrame 2:\n",
      "    qualified\n",
      "0       True\n",
      "1      False\n",
      "2      False\n",
      "\n",
      " Joining the above two Dataframes using join operation:\n",
      "     name  age  qualified\n",
      "0  Sally   50       True\n",
      "1   Mary   40      False\n",
      "2   John   30      False\n"
     ]
    }
   ],
   "source": [
    "import pandas as pd\n",
    "data1={\n",
    "    \"name\":[\"Sally\",\"Mary\",\"John\"],\n",
    "    \"age\":[50,40,30]\n",
    "}\n",
    "data2={\n",
    "    \"qualified\":[True,False,False]\n",
    "}\n",
    "df1=pd.DataFrame(data1)\n",
    "print(\"Original DataFrame 1:\\n\",df1)\n",
    "df2=pd.DataFrame(data2)\n",
    "print(\"\\nOriginal DataFrame 2:\\n\",df2)\n",
    "newdf=df1.join(df2)\n",
    "print(\"\\n Joining the above two Dataframes using join operation:\\n\",newdf)"
   ]
  },
  {
   "cell_type": "code",
   "execution_count": 12,
   "id": "e0d10117",
   "metadata": {},
   "outputs": [],
   "source": [
    "df1=pd.DataFrame([[1,2],[3,4]])\n",
    "df2=pd.DataFrame([[5,6],[7,8]])\n",
    "def myfunc(a,b):\n",
    "    if(a.sum()>b.sum()):\n",
    "        return a\n",
    "    else:\n",
    "        return b\n",
    "    print(\"\\nOriginal DataFrame1:\\n\",df1)\n",
    "    print(\"\\nOriginal DataFrame2:\\n\",df2)\n",
    "    print(\"\\nCombining the above two DataFrame using combine function with some condition:\\n\",df1.combine(df2,myfunc))"
   ]
  },
  {
   "cell_type": "code",
   "execution_count": 11,
   "id": "cc89dfb7",
   "metadata": {},
   "outputs": [
    {
     "name": "stdout",
     "output_type": "stream",
     "text": [
      "\n",
      "Original DataFrame1:\n",
      "     name  age\n",
      "0  Sally   50\n",
      "1   Mary   40\n",
      "2   John   30\n",
      "\n",
      "Original DataFrame2:\n",
      "      name  age\n",
      "0   Sally   77\n",
      "1   Peter   44\n",
      "2  Mickey   22\n",
      "\n",
      "Merge operation:\n",
      "      name  age\n",
      "0   Sally   77\n",
      "1   Peter   44\n",
      "2  Mickey   22\n"
     ]
    }
   ],
   "source": [
    "data1={\n",
    "    \"name\":[\"Sally\",\"Mary\",\"John\"],\n",
    "    \"age\":[50,40,30]\n",
    "}\n",
    "data2={\n",
    "    \"name\":[\"Sally\",\"Peter\",\"Mickey\"],\n",
    "    \"age\":[77,44,22]\n",
    "}\n",
    "df1=pd.DataFrame(data1)\n",
    "df2=pd.DataFrame(data2)\n",
    "print(\"\\nOriginal DataFrame1:\\n\",df1)\n",
    "print(\"\\nOriginal DataFrame2:\\n\",df2)\n",
    "newdf=df1.merge(df2,how='right')\n",
    "print(\"\\nMerge operation:\\n\",newdf)"
   ]
  },
  {
   "cell_type": "code",
   "execution_count": 13,
   "id": "5283831c",
   "metadata": {},
   "outputs": [
    {
     "name": "stdout",
     "output_type": "stream",
     "text": [
      "\n",
      "Original DataFrame:\n",
      "   team  points  assists\n",
      "0    A      88       22\n",
      "1    B      91       28\n",
      "2    C      99       30\n",
      "3    D      94       31\n"
     ]
    },
    {
     "ename": "KeyError",
     "evalue": "\"The following 'value_vars' are not present in the DataFrame: ['rebounds']\"",
     "output_type": "error",
     "traceback": [
      "\u001b[1;31m---------------------------------------------------------------------------\u001b[0m",
      "\u001b[1;31mKeyError\u001b[0m                                  Traceback (most recent call last)",
      "Input \u001b[1;32mIn [13]\u001b[0m, in \u001b[0;36m<cell line: 5>\u001b[1;34m()\u001b[0m\n\u001b[0;32m      1\u001b[0m df\u001b[38;5;241m=\u001b[39mpd\u001b[38;5;241m.\u001b[39mDataFrame({\u001b[38;5;124m'\u001b[39m\u001b[38;5;124mteam\u001b[39m\u001b[38;5;124m'\u001b[39m:[\u001b[38;5;124m'\u001b[39m\u001b[38;5;124mA\u001b[39m\u001b[38;5;124m'\u001b[39m,\u001b[38;5;124m'\u001b[39m\u001b[38;5;124mB\u001b[39m\u001b[38;5;124m'\u001b[39m,\u001b[38;5;124m'\u001b[39m\u001b[38;5;124mC\u001b[39m\u001b[38;5;124m'\u001b[39m,\u001b[38;5;124m'\u001b[39m\u001b[38;5;124mD\u001b[39m\u001b[38;5;124m'\u001b[39m],\n\u001b[0;32m      2\u001b[0m                 \u001b[38;5;124m'\u001b[39m\u001b[38;5;124mpoints\u001b[39m\u001b[38;5;124m'\u001b[39m:[\u001b[38;5;241m88\u001b[39m,\u001b[38;5;241m91\u001b[39m,\u001b[38;5;241m99\u001b[39m,\u001b[38;5;241m94\u001b[39m],\n\u001b[0;32m      3\u001b[0m                 \u001b[38;5;124m'\u001b[39m\u001b[38;5;124massists\u001b[39m\u001b[38;5;124m'\u001b[39m:[\u001b[38;5;241m22\u001b[39m,\u001b[38;5;241m28\u001b[39m,\u001b[38;5;241m30\u001b[39m,\u001b[38;5;241m31\u001b[39m]})\n\u001b[0;32m      4\u001b[0m \u001b[38;5;28mprint\u001b[39m(\u001b[38;5;124m\"\u001b[39m\u001b[38;5;130;01m\\n\u001b[39;00m\u001b[38;5;124mOriginal DataFrame:\u001b[39m\u001b[38;5;130;01m\\n\u001b[39;00m\u001b[38;5;124m\"\u001b[39m,df)\n\u001b[1;32m----> 5\u001b[0m df\u001b[38;5;241m=\u001b[39m\u001b[43mpd\u001b[49m\u001b[38;5;241;43m.\u001b[39;49m\u001b[43mmelt\u001b[49m\u001b[43m(\u001b[49m\u001b[43mdf\u001b[49m\u001b[43m,\u001b[49m\u001b[43mid_vars\u001b[49m\u001b[38;5;241;43m=\u001b[39;49m\u001b[38;5;124;43m'\u001b[39;49m\u001b[38;5;124;43mteam\u001b[39;49m\u001b[38;5;124;43m'\u001b[39;49m\u001b[43m,\u001b[49m\u001b[43mvalue_vars\u001b[49m\u001b[38;5;241;43m=\u001b[39;49m\u001b[43m[\u001b[49m\u001b[38;5;124;43m'\u001b[39;49m\u001b[38;5;124;43mpoints\u001b[39;49m\u001b[38;5;124;43m'\u001b[39;49m\u001b[43m,\u001b[49m\u001b[38;5;124;43m'\u001b[39;49m\u001b[38;5;124;43massists\u001b[39;49m\u001b[38;5;124;43m'\u001b[39;49m\u001b[43m,\u001b[49m\u001b[38;5;124;43m'\u001b[39;49m\u001b[38;5;124;43mrebounds\u001b[39;49m\u001b[38;5;124;43m'\u001b[39;49m\u001b[43m]\u001b[49m\u001b[43m)\u001b[49m\n\u001b[0;32m      6\u001b[0m \u001b[38;5;28mprint\u001b[39m(\u001b[38;5;124m\"\u001b[39m\u001b[38;5;130;01m\\n\u001b[39;00m\u001b[38;5;124mReshaped DataFrame:\u001b[39m\u001b[38;5;130;01m\\n\u001b[39;00m\u001b[38;5;124m,df\u001b[39m\u001b[38;5;124m\"\u001b[39m)\n",
      "File \u001b[1;32mC:\\ProgramData\\Anaconda3\\lib\\site-packages\\pandas\\core\\reshape\\melt.py:96\u001b[0m, in \u001b[0;36mmelt\u001b[1;34m(frame, id_vars, value_vars, var_name, value_name, col_level, ignore_index)\u001b[0m\n\u001b[0;32m     94\u001b[0m     missing \u001b[38;5;241m=\u001b[39m Index(com\u001b[38;5;241m.\u001b[39mflatten(value_vars))\u001b[38;5;241m.\u001b[39mdifference(cols)\n\u001b[0;32m     95\u001b[0m     \u001b[38;5;28;01mif\u001b[39;00m \u001b[38;5;129;01mnot\u001b[39;00m missing\u001b[38;5;241m.\u001b[39mempty:\n\u001b[1;32m---> 96\u001b[0m         \u001b[38;5;28;01mraise\u001b[39;00m \u001b[38;5;167;01mKeyError\u001b[39;00m(\n\u001b[0;32m     97\u001b[0m             \u001b[38;5;124m\"\u001b[39m\u001b[38;5;124mThe following \u001b[39m\u001b[38;5;124m'\u001b[39m\u001b[38;5;124mvalue_vars\u001b[39m\u001b[38;5;124m'\u001b[39m\u001b[38;5;124m are not present in \u001b[39m\u001b[38;5;124m\"\u001b[39m\n\u001b[0;32m     98\u001b[0m             \u001b[38;5;124mf\u001b[39m\u001b[38;5;124m\"\u001b[39m\u001b[38;5;124mthe DataFrame: \u001b[39m\u001b[38;5;132;01m{\u001b[39;00m\u001b[38;5;28mlist\u001b[39m(missing)\u001b[38;5;132;01m}\u001b[39;00m\u001b[38;5;124m\"\u001b[39m\n\u001b[0;32m     99\u001b[0m         )\n\u001b[0;32m    100\u001b[0m \u001b[38;5;28;01mif\u001b[39;00m col_level \u001b[38;5;129;01mis\u001b[39;00m \u001b[38;5;129;01mnot\u001b[39;00m \u001b[38;5;28;01mNone\u001b[39;00m:\n\u001b[0;32m    101\u001b[0m     idx \u001b[38;5;241m=\u001b[39m frame\u001b[38;5;241m.\u001b[39mcolumns\u001b[38;5;241m.\u001b[39mget_level_values(col_level)\u001b[38;5;241m.\u001b[39mget_indexer(\n\u001b[0;32m    102\u001b[0m         id_vars \u001b[38;5;241m+\u001b[39m value_vars\n\u001b[0;32m    103\u001b[0m     )\n",
      "\u001b[1;31mKeyError\u001b[0m: \"The following 'value_vars' are not present in the DataFrame: ['rebounds']\""
     ]
    }
   ],
   "source": [
    "df=pd.DataFrame({'team':['A','B','C','D'],\n",
    "                'points':[88,91,99,94],\n",
    "                'assists':[22,28,30,31]})\n",
    "print(\"\\nOriginal DataFrame:\\n\",df)\n",
    "df=pd.melt(df,id_vars='team',value_vars=['points','assists','rebounds'])\n",
    "print(\"\\nReshaped DataFrame:\\n,df\")"
   ]
  },
  {
   "cell_type": "code",
   "execution_count": null,
   "id": "a70b10ca",
   "metadata": {},
   "outputs": [],
   "source": []
  },
  {
   "cell_type": "code",
   "execution_count": null,
   "id": "d3f15aac",
   "metadata": {},
   "outputs": [],
   "source": []
  }
 ],
 "metadata": {
  "kernelspec": {
   "display_name": "Python 3 (ipykernel)",
   "language": "python",
   "name": "python3"
  },
  "language_info": {
   "codemirror_mode": {
    "name": "ipython",
    "version": 3
   },
   "file_extension": ".py",
   "mimetype": "text/x-python",
   "name": "python",
   "nbconvert_exporter": "python",
   "pygments_lexer": "ipython3",
   "version": "3.9.12"
  }
 },
 "nbformat": 4,
 "nbformat_minor": 5
}
