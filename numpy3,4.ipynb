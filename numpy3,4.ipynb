{
 "cells": [
  {
   "cell_type": "code",
   "execution_count": 1,
   "id": "5fcb7605",
   "metadata": {},
   "outputs": [
    {
     "name": "stdout",
     "output_type": "stream",
     "text": [
      "Original array:\n",
      " [[1 2 3]\n",
      " [4 5 6]]\n"
     ]
    }
   ],
   "source": [
    "import numpy as np\n",
    "a=np.array([[1,2,3],[4,5,6]])\n",
    "print(\"Original array:\\n\",a)"
   ]
  },
  {
   "cell_type": "code",
   "execution_count": 3,
   "id": "f4cb726f",
   "metadata": {},
   "outputs": [
    {
     "name": "stdout",
     "output_type": "stream",
     "text": [
      "\n",
      " Element at indices(0,3),(1,2),(2,1),(3,0):\n",
      " [[0, 1, 2, 3], [4, 5, 6, 7]]\n"
     ]
    }
   ],
   "source": [
    "b=[[0,1,2,3],[4,5,6,7]]\n",
    "print(\"\\n Element at indices(0,3),(1,2),(2,1),\"\"(3,0):\\n\",b)"
   ]
  },
  {
   "cell_type": "code",
   "execution_count": 9,
   "id": "c3770589",
   "metadata": {},
   "outputs": [
    {
     "name": "stdout",
     "output_type": "stream",
     "text": [
      "[2 3 4]\n"
     ]
    }
   ],
   "source": [
    "c=np.array([0,1,2,3,4])\n",
    "d=c>1\n",
    "e=c[d]\n",
    "print (e)"
   ]
  },
  {
   "cell_type": "code",
   "execution_count": 12,
   "id": "0519f0ab",
   "metadata": {},
   "outputs": [
    {
     "name": "stdout",
     "output_type": "stream",
     "text": [
      "\n",
      " Returns every other elememts in the array:f[::2]: [1 3 5 7 9]\n"
     ]
    }
   ],
   "source": [
    "f=np.array([1,2,3,4,5,6,7,8,9,10])\n",
    "print(\"\\n Returns every other elememts in the array:f[::2]:\",f[::2])"
   ]
  },
  {
   "cell_type": "code",
   "execution_count": 13,
   "id": "a7848b37",
   "metadata": {},
   "outputs": [
    {
     "name": "stdout",
     "output_type": "stream",
     "text": [
      "\n",
      " Joined array:\n",
      " [ 0  1  2 11 12 20]\n"
     ]
    }
   ],
   "source": [
    "g=np.array([0,1,2])\n",
    "h=np.array([11,12,20])\n",
    "i=np.concatenate((g,h))\n",
    "print(\"\\n Joined array:\\n\",i)"
   ]
  },
  {
   "cell_type": "code",
   "execution_count": 14,
   "id": "b319ca34",
   "metadata": {},
   "outputs": [
    {
     "name": "stdout",
     "output_type": "stream",
     "text": [
      "\n",
      " Horizontal joining:\n",
      " [ 0  1  2 11 12 20]\n"
     ]
    }
   ],
   "source": [
    "i=np.hstack((g,h))\n",
    "print(\"\\n Horizontal joining:\\n\",i)"
   ]
  },
  {
   "cell_type": "code",
   "execution_count": 15,
   "id": "2c55c8a4",
   "metadata": {},
   "outputs": [
    {
     "name": "stdout",
     "output_type": "stream",
     "text": [
      "\n",
      " Vertical Joining:\n",
      " [[ 0  1  2]\n",
      " [11 12 20]]\n"
     ]
    }
   ],
   "source": [
    "i=np.vstack((g,h))\n",
    "print(\"\\n Vertical Joining:\\n\",i)"
   ]
  },
  {
   "cell_type": "code",
   "execution_count": 16,
   "id": "fd2f6216",
   "metadata": {},
   "outputs": [
    {
     "name": "stdout",
     "output_type": "stream",
     "text": [
      "[[[ 0 11]\n",
      "  [ 1 12]\n",
      "  [ 2 20]]]\n"
     ]
    }
   ],
   "source": [
    "i=np.dstack((g,h))\n",
    "print(i)"
   ]
  },
  {
   "cell_type": "code",
   "execution_count": 17,
   "id": "885ba2b9",
   "metadata": {},
   "outputs": [
    {
     "name": "stdout",
     "output_type": "stream",
     "text": [
      "[array([1, 2, 3, 4]), array([5, 6, 7]), array([ 8,  9, 10])]\n"
     ]
    }
   ],
   "source": [
    "j=np.array_split(f,3)\n",
    "print(j)"
   ]
  },
  {
   "cell_type": "code",
   "execution_count": 18,
   "id": "c594b928",
   "metadata": {},
   "outputs": [
    {
     "name": "stdout",
     "output_type": "stream",
     "text": [
      "[1 2 3 4]\n",
      "[5 6 7]\n",
      "[ 8  9 10]\n"
     ]
    }
   ],
   "source": [
    "print(j[0])\n",
    "print(j[1])\n",
    "print(j[2])"
   ]
  },
  {
   "cell_type": "code",
   "execution_count": 19,
   "id": "9056396e",
   "metadata": {},
   "outputs": [
    {
     "name": "stdout",
     "output_type": "stream",
     "text": [
      "(array([1, 3, 5, 7, 9], dtype=int64),)\n"
     ]
    }
   ],
   "source": [
    "k=np.array([1,4,3,4,7,4,12,4,6,4])\n",
    "l=np.where(k==4)\n",
    "print(l)"
   ]
  },
  {
   "cell_type": "code",
   "execution_count": 20,
   "id": "6f5d044c",
   "metadata": {},
   "outputs": [
    {
     "name": "stdout",
     "output_type": "stream",
     "text": [
      "(array([1, 3, 5, 6, 7, 8, 9], dtype=int64),)\n"
     ]
    }
   ],
   "source": [
    "m=np.where(k%2==0)\n",
    "print(m)"
   ]
  },
  {
   "cell_type": "code",
   "execution_count": 21,
   "id": "c5520a4f",
   "metadata": {},
   "outputs": [
    {
     "name": "stdout",
     "output_type": "stream",
     "text": [
      "1\n"
     ]
    }
   ],
   "source": [
    "n=np.searchsorted(k,3,side='left')\n",
    "print(n)"
   ]
  },
  {
   "cell_type": "code",
   "execution_count": 22,
   "id": "3ee63b2f",
   "metadata": {},
   "outputs": [
    {
     "name": "stdout",
     "output_type": "stream",
     "text": [
      "[ 1  3  4  4  4  4  4  6  7 12]\n"
     ]
    }
   ],
   "source": [
    "p=np.sort(k)\n",
    "print(p)"
   ]
  },
  {
   "cell_type": "code",
   "execution_count": 23,
   "id": "b7a4af2d",
   "metadata": {},
   "outputs": [
    {
     "name": "stdout",
     "output_type": "stream",
     "text": [
      "[71 73]\n"
     ]
    }
   ],
   "source": [
    "q=np.array([71,72,73,74])\n",
    "y=[True,False,True,False]\n",
    "z=q[y]\n",
    "print(z)"
   ]
  },
  {
   "cell_type": "code",
   "execution_count": 24,
   "id": "b25a04c0",
   "metadata": {},
   "outputs": [
    {
     "name": "stdout",
     "output_type": "stream",
     "text": [
      "[ 7  9 11 13 15]\n"
     ]
    }
   ],
   "source": [
    "a1=np.array([1,2,3,4,5])\n",
    "b1=np.array([6,7,8,9,10])\n",
    "print(a1+b1)"
   ]
  },
  {
   "cell_type": "code",
   "execution_count": 25,
   "id": "1e20975e",
   "metadata": {},
   "outputs": [
    {
     "name": "stdout",
     "output_type": "stream",
     "text": [
      "[-5 -5 -5 -5 -5]\n"
     ]
    }
   ],
   "source": [
    "print(a1-b1)"
   ]
  },
  {
   "cell_type": "code",
   "execution_count": 26,
   "id": "64b49a37",
   "metadata": {},
   "outputs": [
    {
     "name": "stdout",
     "output_type": "stream",
     "text": [
      "[ 6 14 24 36 50]\n"
     ]
    }
   ],
   "source": [
    "print(a1*b1)"
   ]
  },
  {
   "cell_type": "code",
   "execution_count": 27,
   "id": "f36e06b0",
   "metadata": {},
   "outputs": [
    {
     "name": "stdout",
     "output_type": "stream",
     "text": [
      "[0.16666667 0.28571429 0.375      0.44444444 0.5       ]\n"
     ]
    }
   ],
   "source": [
    "print(a1/b1)"
   ]
  },
  {
   "cell_type": "code",
   "execution_count": 28,
   "id": "40d750de",
   "metadata": {},
   "outputs": [
    {
     "name": "stdout",
     "output_type": "stream",
     "text": [
      "130\n"
     ]
    }
   ],
   "source": [
    "print(a1.dot(b1))"
   ]
  },
  {
   "cell_type": "code",
   "execution_count": 29,
   "id": "095a6e5e",
   "metadata": {},
   "outputs": [
    {
     "name": "stdout",
     "output_type": "stream",
     "text": [
      "[[ 5 10 15]\n",
      " [20 25 30]]\n"
     ]
    }
   ],
   "source": [
    "sclr=5\n",
    "print(a*sclr)"
   ]
  },
  {
   "cell_type": "code",
   "execution_count": 33,
   "id": "7f0f1202",
   "metadata": {},
   "outputs": [
    {
     "name": "stdout",
     "output_type": "stream",
     "text": [
      "[ 8  1 50]\n"
     ]
    }
   ],
   "source": [
    "def my_func(x,y):\n",
    "    if x>y:\n",
    "        return x-y\n",
    "    else:\n",
    "        return x+y\n",
    "c1=np.array([10,4,20])\n",
    "d1=np.array([2,3,30])\n",
    "vec_func=np.vectorize(my_func)\n",
    "print(vec_func(c1,d1))"
   ]
  },
  {
   "cell_type": "code",
   "execution_count": null,
   "id": "499e5ee0",
   "metadata": {},
   "outputs": [],
   "source": []
  }
 ],
 "metadata": {
  "kernelspec": {
   "display_name": "Python 3 (ipykernel)",
   "language": "python",
   "name": "python3"
  },
  "language_info": {
   "codemirror_mode": {
    "name": "ipython",
    "version": 3
   },
   "file_extension": ".py",
   "mimetype": "text/x-python",
   "name": "python",
   "nbconvert_exporter": "python",
   "pygments_lexer": "ipython3",
   "version": "3.9.12"
  }
 },
 "nbformat": 4,
 "nbformat_minor": 5
}
