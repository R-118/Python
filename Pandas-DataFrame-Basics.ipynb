{
 "cells": [
  {
   "cell_type": "code",
   "execution_count": 2,
   "id": "92344dbf",
   "metadata": {},
   "outputs": [
    {
     "name": "stdout",
     "output_type": "stream",
     "text": [
      "Empty DataFrame\n",
      "Columns: []\n",
      "Index: []\n"
     ]
    }
   ],
   "source": [
    "import pandas as pd\n",
    "df = pd.DataFrame()\n",
    "print(df)"
   ]
  },
  {
   "cell_type": "code",
   "execution_count": 6,
   "id": "b6f9d5b8",
   "metadata": {},
   "outputs": [
    {
     "name": "stdout",
     "output_type": "stream",
     "text": [
      "\n",
      " Series to Dataframe\n",
      "\n",
      "       EMP  ID\n",
      "0    Rishi  82\n",
      "1  Yuvaraj  83\n",
      "2     Asan  84\n",
      "3    Rahib  85\n",
      "4     Siva  86\n"
     ]
    }
   ],
   "source": [
    "import pandas as pd\n",
    "emp = pd.Series(['Rishi','Yuvaraj','Asan','Rahib','Siva'])\n",
    "id = pd.Series([82,83,84,85,86,])\n",
    "frame = {'EMP':emp,'ID':id}\n",
    "result = pd.DataFrame(frame)\n",
    "print(\"\\n Series to Dataframe\\n\")\n",
    "print(result)"
   ]
  },
  {
   "cell_type": "code",
   "execution_count": 7,
   "id": "8af64a91",
   "metadata": {},
   "outputs": [
    {
     "name": "stdout",
     "output_type": "stream",
     "text": [
      "\n",
      " Extracting one column:\n",
      "\n",
      "0      Rishi\n",
      "1    Yuvaraj\n",
      "2       Asan\n",
      "3      Rahib\n",
      "4       Siva\n",
      "Name: EMP, dtype: object\n"
     ]
    }
   ],
   "source": [
    "print(\"\\n Extracting one column:\\n\")\n",
    "print(result['EMP'])"
   ]
  },
  {
   "cell_type": "code",
   "execution_count": 8,
   "id": "9abdd16b",
   "metadata": {},
   "outputs": [
    {
     "name": "stdout",
     "output_type": "stream",
     "text": [
      "\n",
      " Adding one column:\n",
      "\n",
      "       EMP  ID   Age\n",
      "0    Rishi  82  35.0\n",
      "1  Yuvaraj  83  24.0\n",
      "2     Asan  84  40.0\n",
      "3    Rahib  85  38.0\n",
      "4     Siva  86   NaN\n"
     ]
    }
   ],
   "source": [
    "print(\"\\n Adding one column:\\n\")\n",
    "result['Age']=pd.Series([35,24,40,38])\n",
    "print(result)"
   ]
  },
  {
   "cell_type": "code",
   "execution_count": 9,
   "id": "8d9f75c4",
   "metadata": {},
   "outputs": [
    {
     "name": "stdout",
     "output_type": "stream",
     "text": [
      "\n",
      " deleting one column:\n",
      "\n",
      "       EMP  ID\n",
      "0    Rishi  82\n",
      "1  Yuvaraj  83\n",
      "2     Asan  84\n",
      "3    Rahib  85\n",
      "4     Siva  86\n"
     ]
    }
   ],
   "source": [
    "print(\"\\n deleting one column:\\n\")\n",
    "del result['Age']\n",
    "print(result)"
   ]
  },
  {
   "cell_type": "code",
   "execution_count": 10,
   "id": "d13c17ea",
   "metadata": {},
   "outputs": [
    {
     "name": "stdout",
     "output_type": "stream",
     "text": [
      "\n",
      " Extracting the third row:\n",
      "\n",
      "EMP    Asan\n",
      "ID       84\n",
      "Name: 2, dtype: object\n"
     ]
    }
   ],
   "source": [
    "print(\"\\n Extracting the third row:\\n\")\n",
    "print(result.loc[2])"
   ]
  },
  {
   "cell_type": "code",
   "execution_count": 11,
   "id": "117850a6",
   "metadata": {},
   "outputs": [
    {
     "name": "stdout",
     "output_type": "stream",
     "text": [
      "\n",
      " Slice rows:\n",
      "        EMP  ID\n",
      "1  Yuvaraj  83\n",
      "2     Asan  84\n"
     ]
    }
   ],
   "source": [
    "print(\"\\n Slice rows:\\n\",result[1:3])"
   ]
  },
  {
   "cell_type": "code",
   "execution_count": 18,
   "id": "e754db15",
   "metadata": {},
   "outputs": [
    {
     "name": "stdout",
     "output_type": "stream",
     "text": [
      "\n",
      " Adding new row values:\n",
      "        EMP  ID\n",
      "0    Rishi  82\n",
      "1  Yuvaraj  83\n",
      "2     Asan  84\n",
      "3    Rahib  85\n",
      "4     Siva  86\n",
      "0  Yuvaraj  82\n",
      "1    Rishi  83\n"
     ]
    },
    {
     "name": "stderr",
     "output_type": "stream",
     "text": [
      "C:\\Users\\Tcs\\AppData\\Local\\Temp\\ipykernel_6060\\1921295805.py:2: FutureWarning: The frame.append method is deprecated and will be removed from pandas in a future version. Use pandas.concat instead.\n",
      "  print(\"\\n Adding new row values:\\n\",result.append(d2))\n"
     ]
    }
   ],
   "source": [
    "d1=pd.DataFrame([['Yuvaraj',82],['Rishi',83]],columns=['EMP','ID'])\n",
    "print(\"\\n Adding new row values:\\n\",result.append(d2))"
   ]
  },
  {
   "cell_type": "code",
   "execution_count": 19,
   "id": "2a30eeb4",
   "metadata": {},
   "outputs": [
    {
     "name": "stdout",
     "output_type": "stream",
     "text": [
      "\n",
      " Deleting particular row:\n",
      "      EMP  ID\n",
      "0  Rishi  82\n",
      "2   Asan  84\n",
      "3  Rahib  85\n",
      "4   Siva  86\n"
     ]
    }
   ],
   "source": [
    "print(\"\\n Deleting particular row:\\n\",result.drop(1))"
   ]
  },
  {
   "cell_type": "code",
   "execution_count": null,
   "id": "6a79fb04",
   "metadata": {},
   "outputs": [],
   "source": []
  },
  {
   "cell_type": "code",
   "execution_count": null,
   "id": "aaab6326",
   "metadata": {},
   "outputs": [],
   "source": []
  }
 ],
 "metadata": {
  "kernelspec": {
   "display_name": "Python 3 (ipykernel)",
   "language": "python",
   "name": "python3"
  },
  "language_info": {
   "codemirror_mode": {
    "name": "ipython",
    "version": 3
   },
   "file_extension": ".py",
   "mimetype": "text/x-python",
   "name": "python",
   "nbconvert_exporter": "python",
   "pygments_lexer": "ipython3",
   "version": "3.9.12"
  }
 },
 "nbformat": 4,
 "nbformat_minor": 5
}
